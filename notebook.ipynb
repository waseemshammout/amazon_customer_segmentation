{
 "cells": [
  {
   "cell_type": "markdown",
   "metadata": {},
   "source": [
    "In this document we are going to apply of the famous customer segmentation practices called RFM model on Amazon sales data\n",
    "* The sales data include transactions between 03-Jan-2015 and 30-Dec-2018, so we will build this study as if today is 31-Dec-2018 (the day after the last transaction)\n",
    "* We will consider only the trailing 18 months history\n"
   ]
  },
  {
   "cell_type": "code",
   "execution_count": 160,
   "metadata": {},
   "outputs": [
    {
     "data": {
      "text/html": [
       "<div>\n",
       "<style scoped>\n",
       "    .dataframe tbody tr th:only-of-type {\n",
       "        vertical-align: middle;\n",
       "    }\n",
       "\n",
       "    .dataframe tbody tr th {\n",
       "        vertical-align: top;\n",
       "    }\n",
       "\n",
       "    .dataframe thead th {\n",
       "        text-align: right;\n",
       "    }\n",
       "</style>\n",
       "<table border=\"1\" class=\"dataframe\">\n",
       "  <thead>\n",
       "    <tr style=\"text-align: right;\">\n",
       "      <th></th>\n",
       "      <th>Row ID</th>\n",
       "      <th>Order ID</th>\n",
       "      <th>Order Date</th>\n",
       "      <th>Ship Date</th>\n",
       "      <th>Ship Mode</th>\n",
       "      <th>Customer ID</th>\n",
       "      <th>Customer Name</th>\n",
       "      <th>Segment</th>\n",
       "      <th>Country</th>\n",
       "      <th>City</th>\n",
       "      <th>State</th>\n",
       "      <th>Postal Code</th>\n",
       "      <th>Region</th>\n",
       "      <th>Product ID</th>\n",
       "      <th>Category</th>\n",
       "      <th>Sub-Category</th>\n",
       "      <th>Product Name</th>\n",
       "      <th>Sales</th>\n",
       "    </tr>\n",
       "  </thead>\n",
       "  <tbody>\n",
       "    <tr>\n",
       "      <th>0</th>\n",
       "      <td>1</td>\n",
       "      <td>CA-2017-152156</td>\n",
       "      <td>08/11/2017</td>\n",
       "      <td>11/11/2017</td>\n",
       "      <td>Second Class</td>\n",
       "      <td>CG-12520</td>\n",
       "      <td>Claire Gute</td>\n",
       "      <td>Consumer</td>\n",
       "      <td>United States</td>\n",
       "      <td>Henderson</td>\n",
       "      <td>Kentucky</td>\n",
       "      <td>42420.0</td>\n",
       "      <td>South</td>\n",
       "      <td>FUR-BO-10001798</td>\n",
       "      <td>Furniture</td>\n",
       "      <td>Bookcases</td>\n",
       "      <td>Bush Somerset Collection Bookcase</td>\n",
       "      <td>261.9600</td>\n",
       "    </tr>\n",
       "    <tr>\n",
       "      <th>1</th>\n",
       "      <td>2</td>\n",
       "      <td>CA-2017-152156</td>\n",
       "      <td>08/11/2017</td>\n",
       "      <td>11/11/2017</td>\n",
       "      <td>Second Class</td>\n",
       "      <td>CG-12520</td>\n",
       "      <td>Claire Gute</td>\n",
       "      <td>Consumer</td>\n",
       "      <td>United States</td>\n",
       "      <td>Henderson</td>\n",
       "      <td>Kentucky</td>\n",
       "      <td>42420.0</td>\n",
       "      <td>South</td>\n",
       "      <td>FUR-CH-10000454</td>\n",
       "      <td>Furniture</td>\n",
       "      <td>Chairs</td>\n",
       "      <td>Hon Deluxe Fabric Upholstered Stacking Chairs,...</td>\n",
       "      <td>731.9400</td>\n",
       "    </tr>\n",
       "    <tr>\n",
       "      <th>2</th>\n",
       "      <td>3</td>\n",
       "      <td>CA-2017-138688</td>\n",
       "      <td>12/06/2017</td>\n",
       "      <td>16/06/2017</td>\n",
       "      <td>Second Class</td>\n",
       "      <td>DV-13045</td>\n",
       "      <td>Darrin Van Huff</td>\n",
       "      <td>Corporate</td>\n",
       "      <td>United States</td>\n",
       "      <td>Los Angeles</td>\n",
       "      <td>California</td>\n",
       "      <td>90036.0</td>\n",
       "      <td>West</td>\n",
       "      <td>OFF-LA-10000240</td>\n",
       "      <td>Office Supplies</td>\n",
       "      <td>Labels</td>\n",
       "      <td>Self-Adhesive Address Labels for Typewriters b...</td>\n",
       "      <td>14.6200</td>\n",
       "    </tr>\n",
       "    <tr>\n",
       "      <th>3</th>\n",
       "      <td>4</td>\n",
       "      <td>US-2016-108966</td>\n",
       "      <td>11/10/2016</td>\n",
       "      <td>18/10/2016</td>\n",
       "      <td>Standard Class</td>\n",
       "      <td>SO-20335</td>\n",
       "      <td>Sean O'Donnell</td>\n",
       "      <td>Consumer</td>\n",
       "      <td>United States</td>\n",
       "      <td>Fort Lauderdale</td>\n",
       "      <td>Florida</td>\n",
       "      <td>33311.0</td>\n",
       "      <td>South</td>\n",
       "      <td>FUR-TA-10000577</td>\n",
       "      <td>Furniture</td>\n",
       "      <td>Tables</td>\n",
       "      <td>Bretford CR4500 Series Slim Rectangular Table</td>\n",
       "      <td>957.5775</td>\n",
       "    </tr>\n",
       "    <tr>\n",
       "      <th>4</th>\n",
       "      <td>5</td>\n",
       "      <td>US-2016-108966</td>\n",
       "      <td>11/10/2016</td>\n",
       "      <td>18/10/2016</td>\n",
       "      <td>Standard Class</td>\n",
       "      <td>SO-20335</td>\n",
       "      <td>Sean O'Donnell</td>\n",
       "      <td>Consumer</td>\n",
       "      <td>United States</td>\n",
       "      <td>Fort Lauderdale</td>\n",
       "      <td>Florida</td>\n",
       "      <td>33311.0</td>\n",
       "      <td>South</td>\n",
       "      <td>OFF-ST-10000760</td>\n",
       "      <td>Office Supplies</td>\n",
       "      <td>Storage</td>\n",
       "      <td>Eldon Fold 'N Roll Cart System</td>\n",
       "      <td>22.3680</td>\n",
       "    </tr>\n",
       "  </tbody>\n",
       "</table>\n",
       "</div>"
      ],
      "text/plain": [
       "   Row ID        Order ID  Order Date   Ship Date       Ship Mode Customer ID  \\\n",
       "0       1  CA-2017-152156  08/11/2017  11/11/2017    Second Class    CG-12520   \n",
       "1       2  CA-2017-152156  08/11/2017  11/11/2017    Second Class    CG-12520   \n",
       "2       3  CA-2017-138688  12/06/2017  16/06/2017    Second Class    DV-13045   \n",
       "3       4  US-2016-108966  11/10/2016  18/10/2016  Standard Class    SO-20335   \n",
       "4       5  US-2016-108966  11/10/2016  18/10/2016  Standard Class    SO-20335   \n",
       "\n",
       "     Customer Name    Segment        Country             City       State  \\\n",
       "0      Claire Gute   Consumer  United States        Henderson    Kentucky   \n",
       "1      Claire Gute   Consumer  United States        Henderson    Kentucky   \n",
       "2  Darrin Van Huff  Corporate  United States      Los Angeles  California   \n",
       "3   Sean O'Donnell   Consumer  United States  Fort Lauderdale     Florida   \n",
       "4   Sean O'Donnell   Consumer  United States  Fort Lauderdale     Florida   \n",
       "\n",
       "   Postal Code Region       Product ID         Category Sub-Category  \\\n",
       "0      42420.0  South  FUR-BO-10001798        Furniture    Bookcases   \n",
       "1      42420.0  South  FUR-CH-10000454        Furniture       Chairs   \n",
       "2      90036.0   West  OFF-LA-10000240  Office Supplies       Labels   \n",
       "3      33311.0  South  FUR-TA-10000577        Furniture       Tables   \n",
       "4      33311.0  South  OFF-ST-10000760  Office Supplies      Storage   \n",
       "\n",
       "                                        Product Name     Sales  \n",
       "0                  Bush Somerset Collection Bookcase  261.9600  \n",
       "1  Hon Deluxe Fabric Upholstered Stacking Chairs,...  731.9400  \n",
       "2  Self-Adhesive Address Labels for Typewriters b...   14.6200  \n",
       "3      Bretford CR4500 Series Slim Rectangular Table  957.5775  \n",
       "4                     Eldon Fold 'N Roll Cart System   22.3680  "
      ]
     },
     "execution_count": 160,
     "metadata": {},
     "output_type": "execute_result"
    }
   ],
   "source": [
    "# load CSV data to DateFrame\n",
    "import pandas as pd\n",
    "import numpy as np\n",
    "\n",
    "sales_df = pd.read_csv('data.csv')\n",
    "sales_df.head()"
   ]
  },
  {
   "cell_type": "code",
   "execution_count": 161,
   "metadata": {},
   "outputs": [],
   "source": [
    "# Converting Order Date column to date\n",
    "sales_df['Order Date'] = pd.to_datetime(sales_df['Order Date'], dayfirst=True)"
   ]
  },
  {
   "cell_type": "code",
   "execution_count": 162,
   "metadata": {},
   "outputs": [
    {
     "name": "stdout",
     "output_type": "stream",
     "text": [
      "Last Transaction Date : 2018-12-30 00:00:00\n",
      "Snapshot Date : 2018-12-31 00:00:00\n"
     ]
    }
   ],
   "source": [
    "# Snapshot date (The hypothetical \"Today\")\n",
    "from datetime import datetime, timedelta\n",
    "\n",
    "last_transaction_date = sales_df[\"Order Date\"].max()\n",
    "snapshot_date = last_transaction_date + timedelta(days=1)\n",
    "print('Last Transaction Date :', last_transaction_date)\n",
    "print('Snapshot Date :', snapshot_date)"
   ]
  },
  {
   "cell_type": "code",
   "execution_count": 163,
   "metadata": {},
   "outputs": [],
   "source": [
    "# Subset of trailing 18 months sales \n",
    "sales_last_18_months = sales_df[sales_df[\"Order Date\"] >= datetime(2018, 12, 30) - timedelta(days=540)]"
   ]
  },
  {
   "cell_type": "code",
   "execution_count": 164,
   "metadata": {},
   "outputs": [],
   "source": [
    "# Aggregating orders' lines\n",
    "orders_last_18_months = sales_last_18_months.groupby(['Customer ID','Order ID', 'Order Date'])['Sales'].sum().reset_index()"
   ]
  },
  {
   "cell_type": "code",
   "execution_count": 165,
   "metadata": {},
   "outputs": [
    {
     "data": {
      "text/html": [
       "<div>\n",
       "<style scoped>\n",
       "    .dataframe tbody tr th:only-of-type {\n",
       "        vertical-align: middle;\n",
       "    }\n",
       "\n",
       "    .dataframe tbody tr th {\n",
       "        vertical-align: top;\n",
       "    }\n",
       "\n",
       "    .dataframe thead th {\n",
       "        text-align: right;\n",
       "    }\n",
       "</style>\n",
       "<table border=\"1\" class=\"dataframe\">\n",
       "  <thead>\n",
       "    <tr style=\"text-align: right;\">\n",
       "      <th></th>\n",
       "      <th>Customer ID</th>\n",
       "      <th>recency</th>\n",
       "      <th>frequency</th>\n",
       "      <th>sales_Last_18_M</th>\n",
       "    </tr>\n",
       "  </thead>\n",
       "  <tbody>\n",
       "    <tr>\n",
       "      <th>0</th>\n",
       "      <td>AA-10315</td>\n",
       "      <td>185</td>\n",
       "      <td>1</td>\n",
       "      <td>374.480</td>\n",
       "    </tr>\n",
       "    <tr>\n",
       "      <th>1</th>\n",
       "      <td>AA-10375</td>\n",
       "      <td>20</td>\n",
       "      <td>4</td>\n",
       "      <td>737.020</td>\n",
       "    </tr>\n",
       "    <tr>\n",
       "      <th>2</th>\n",
       "      <td>AA-10480</td>\n",
       "      <td>260</td>\n",
       "      <td>3</td>\n",
       "      <td>1763.052</td>\n",
       "    </tr>\n",
       "    <tr>\n",
       "      <th>3</th>\n",
       "      <td>AA-10645</td>\n",
       "      <td>56</td>\n",
       "      <td>2</td>\n",
       "      <td>304.700</td>\n",
       "    </tr>\n",
       "    <tr>\n",
       "      <th>4</th>\n",
       "      <td>AB-10015</td>\n",
       "      <td>416</td>\n",
       "      <td>1</td>\n",
       "      <td>563.940</td>\n",
       "    </tr>\n",
       "  </tbody>\n",
       "</table>\n",
       "</div>"
      ],
      "text/plain": [
       "  Customer ID  recency  frequency  sales_Last_18_M\n",
       "0    AA-10315      185          1          374.480\n",
       "1    AA-10375       20          4          737.020\n",
       "2    AA-10480      260          3         1763.052\n",
       "3    AA-10645       56          2          304.700\n",
       "4    AB-10015      416          1          563.940"
      ]
     },
     "execution_count": 165,
     "metadata": {},
     "output_type": "execute_result"
    }
   ],
   "source": [
    "# Now we populate recency, frequency and monetary columns for each column where\n",
    "# Recency: number of days passed since the last customer purchase\n",
    "# Frequency: number of purchases\n",
    "# Monetary: Total customer's purchase in value we will call this column 'sales_Last_18_M'\n",
    "# all of the above are for the last 18 months assuming today's date is 2018-12-31\n",
    "\n",
    "datamart = orders_last_18_months.groupby(\"Customer ID\").agg(\n",
    "    recency=(\"Order Date\", lambda x: (snapshot_date - x.max()).days),  # days passed since the last order\n",
    "    frequency=(\"Order ID\", \"count\"),                                   # number of orders during the period\n",
    "    sales_Last_18_M=(\"Sales\", \"sum\"),                                  # sales generated during the period\n",
    ").reset_index()\n",
    "datamart.head()"
   ]
  },
  {
   "cell_type": "code",
   "execution_count": 166,
   "metadata": {},
   "outputs": [],
   "source": [
    "# converting the above table into an Array type to use it in further steps\n",
    "samples = datamart[['recency','frequency','sales_Last_18_M']].values"
   ]
  },
  {
   "cell_type": "code",
   "execution_count": 167,
   "metadata": {},
   "outputs": [
    {
     "data": {
      "text/plain": [
       "array([1, 1, 0, 1, 1, 2, 2, 1, 1, 1], dtype=int32)"
      ]
     },
     "execution_count": 167,
     "metadata": {},
     "output_type": "execute_result"
    }
   ],
   "source": [
    "# In this step, we are going to cluster the 753 customers into 4 clusters using their RFM data\n",
    "from sklearn.cluster import KMeans\n",
    "\n",
    "km = KMeans(n_clusters=3, random_state=1)\n",
    "km.fit(samples)\n",
    "km.labels_[:10]"
   ]
  },
  {
   "cell_type": "code",
   "execution_count": 168,
   "metadata": {},
   "outputs": [],
   "source": [
    "datamart['cluster'] = km.labels_"
   ]
  },
  {
   "cell_type": "code",
   "execution_count": 169,
   "metadata": {},
   "outputs": [],
   "source": [
    "colors = {0:'purple',1:'red',2:'teal'}\n",
    "datamart['cluster_color'] = datamart['cluster'].map(colors)"
   ]
  },
  {
   "cell_type": "code",
   "execution_count": 175,
   "metadata": {},
   "outputs": [
    {
     "data": {
      "text/html": [
       "<div>\n",
       "<style scoped>\n",
       "    .dataframe tbody tr th:only-of-type {\n",
       "        vertical-align: middle;\n",
       "    }\n",
       "\n",
       "    .dataframe tbody tr th {\n",
       "        vertical-align: top;\n",
       "    }\n",
       "\n",
       "    .dataframe thead th {\n",
       "        text-align: right;\n",
       "    }\n",
       "</style>\n",
       "<table border=\"1\" class=\"dataframe\">\n",
       "  <thead>\n",
       "    <tr style=\"text-align: right;\">\n",
       "      <th></th>\n",
       "      <th>cluster</th>\n",
       "      <th>cluster_color</th>\n",
       "      <th>Mean_Recency</th>\n",
       "      <th>Mean_Frequency</th>\n",
       "      <th>Mean_Monetary</th>\n",
       "      <th>Customer_Count</th>\n",
       "      <th>Total_Sales</th>\n",
       "      <th>Total_Sales_K</th>\n",
       "    </tr>\n",
       "  </thead>\n",
       "  <tbody>\n",
       "    <tr>\n",
       "      <th>0</th>\n",
       "      <td>0</td>\n",
       "      <td>purple</td>\n",
       "      <td>82.4</td>\n",
       "      <td>4.2</td>\n",
       "      <td>2698.8</td>\n",
       "      <td>189</td>\n",
       "      <td>510072.7</td>\n",
       "      <td>5100.7</td>\n",
       "    </tr>\n",
       "    <tr>\n",
       "      <th>1</th>\n",
       "      <td>1</td>\n",
       "      <td>red</td>\n",
       "      <td>132.4</td>\n",
       "      <td>2.8</td>\n",
       "      <td>658.6</td>\n",
       "      <td>535</td>\n",
       "      <td>352368.5</td>\n",
       "      <td>3523.7</td>\n",
       "    </tr>\n",
       "    <tr>\n",
       "      <th>2</th>\n",
       "      <td>2</td>\n",
       "      <td>teal</td>\n",
       "      <td>76.3</td>\n",
       "      <td>5.1</td>\n",
       "      <td>7695.8</td>\n",
       "      <td>29</td>\n",
       "      <td>223177.5</td>\n",
       "      <td>2231.8</td>\n",
       "    </tr>\n",
       "  </tbody>\n",
       "</table>\n",
       "</div>"
      ],
      "text/plain": [
       "   cluster cluster_color  Mean_Recency  Mean_Frequency  Mean_Monetary  \\\n",
       "0        0        purple          82.4             4.2         2698.8   \n",
       "1        1           red         132.4             2.8          658.6   \n",
       "2        2          teal          76.3             5.1         7695.8   \n",
       "\n",
       "   Customer_Count  Total_Sales  Total_Sales_K  \n",
       "0             189     510072.7         5100.7  \n",
       "1             535     352368.5         3523.7  \n",
       "2              29     223177.5         2231.8  "
      ]
     },
     "execution_count": 175,
     "metadata": {},
     "output_type": "execute_result"
    }
   ],
   "source": [
    "customer_cluster_summary = (\n",
    "    datamart.groupby(['cluster',\"cluster_color\"]).agg(\n",
    "        Mean_Recency=(\"recency\", \"mean\"),\n",
    "        Mean_Frequency=(\"frequency\", \"mean\"),\n",
    "        Mean_Monetary=(\"sales_Last_18_M\", \"mean\"),\n",
    "        Customer_Count=(\"Customer ID\", \"count\"),\n",
    "        Total_Sales=(\"sales_Last_18_M\", \"sum\"),\n",
    "        Total_Sales_K=(\"sales_Last_18_M\", lambda x: sum(x / 100)),\n",
    "    ).round(1)\n",
    ").reset_index()\n",
    "customer_cluster_summary"
   ]
  },
  {
   "cell_type": "code",
   "execution_count": 176,
   "metadata": {},
   "outputs": [],
   "source": [
    "r_line = datamart['recency'].mean()\n",
    "f_line = datamart['frequency'].mean()\n",
    "# customer_cluster_summary['Mean_Frequency'].mean()"
   ]
  },
  {
   "cell_type": "code",
   "execution_count": 177,
   "metadata": {},
   "outputs": [
    {
     "data": {
      "text/plain": [
       "np.float64(3.2802124833997346)"
      ]
     },
     "execution_count": 177,
     "metadata": {},
     "output_type": "execute_result"
    }
   ],
   "source": [
    "f_line"
   ]
  },
  {
   "cell_type": "code",
   "execution_count": 183,
   "metadata": {},
   "outputs": [
    {
     "data": {
      "image/png": "[encoded data removed]",
      "text/plain": [
       "<Figure size 640x480 with 1 Axes>"
      ]
     },
     "metadata": {},
     "output_type": "display_data"
    }
   ],
   "source": [
    "import matplotlib.pyplot as plt\n",
    "\n",
    "# plt.scatter(data=datamart, x='recency', y='frequency', c='cluster', s='sales_Last_18_M')\n",
    "# plt.scatter(data=datamart, x='recency', y='frequency', c='cluster')\n",
    "plt.scatter(\n",
    "    data=customer_cluster_summary,\n",
    "    x=\"Mean_Recency\",\n",
    "    y=\"Mean_Frequency\",\n",
    "    s=\"Total_Sales_K\",\n",
    "    c=colors.values(),\n",
    "    alpha=0.5,\n",
    ")\n",
    "plt.title(\"RFM Summary Chart\")\n",
    "plt.axhline(y=f_line, linestyle=\"--\", label=\"Mean F=\" + str(f_line))\n",
    "plt.axvline(x=r_line, linestyle=\"--\", label=\"Mean R=\" + str(r_line))\n",
    "plt.text(x=79, y=f_line, s=\"Mean F: \" + str(round(f_line, 2)))\n",
    "plt.text(x=r_line, y=4.8, s=\"Mean R: \" + str(round(r_line, 0)))\n",
    "# plt.legend()\n",
    "plt.xlim(70, 140)\n",
    "plt.ylim(2, 6)\n",
    "plt.xlabel(\"Recency (Days)\")\n",
    "plt.ylabel(\"Frequency (Orders Count)\")\n",
    "plt.show()"
   ]
  },
  {
   "cell_type": "markdown",
   "metadata": {},
   "source": [
    "* After we clustered the 753 customers using KMeans, we got the mean of Recency, Frequency and Monetary of each cluster.\n",
    "The above chart presents the Recency on the x axis, Frequency on the y axis and then the bubble size corresponds to the third element which is Monetary.\n",
    "* The two crossed blue lines illustrates the means of the R & F\n",
    "* The two bubbles on the top left area present those classes with a relative high frequency and low recency of orders, in contrary the red bubble shows high recency and a low frequency of orders, their details are brokendown below"
   ]
  },
  {
   "cell_type": "code",
   "execution_count": 174,
   "metadata": {},
   "outputs": [
    {
     "data": {
      "text/html": [
       "<div>\n",
       "<style scoped>\n",
       "    .dataframe tbody tr th:only-of-type {\n",
       "        vertical-align: middle;\n",
       "    }\n",
       "\n",
       "    .dataframe tbody tr th {\n",
       "        vertical-align: top;\n",
       "    }\n",
       "\n",
       "    .dataframe thead th {\n",
       "        text-align: right;\n",
       "    }\n",
       "</style>\n",
       "<table border=\"1\" class=\"dataframe\">\n",
       "  <thead>\n",
       "    <tr style=\"text-align: right;\">\n",
       "      <th></th>\n",
       "      <th>cluster</th>\n",
       "      <th>cluster_color</th>\n",
       "      <th>Mean_Recency</th>\n",
       "      <th>Mean_Frequency</th>\n",
       "      <th>Mean_Monetary</th>\n",
       "      <th>Customer_Count</th>\n",
       "      <th>Total_Sales</th>\n",
       "      <th>Total_Sales_K</th>\n",
       "    </tr>\n",
       "  </thead>\n",
       "  <tbody>\n",
       "    <tr>\n",
       "      <th>0</th>\n",
       "      <td>0</td>\n",
       "      <td>purple</td>\n",
       "      <td>82.4</td>\n",
       "      <td>4.2</td>\n",
       "      <td>2698.8</td>\n",
       "      <td>189</td>\n",
       "      <td>510072.7</td>\n",
       "      <td>510.1</td>\n",
       "    </tr>\n",
       "    <tr>\n",
       "      <th>1</th>\n",
       "      <td>1</td>\n",
       "      <td>red</td>\n",
       "      <td>132.4</td>\n",
       "      <td>2.8</td>\n",
       "      <td>658.6</td>\n",
       "      <td>535</td>\n",
       "      <td>352368.5</td>\n",
       "      <td>352.4</td>\n",
       "    </tr>\n",
       "    <tr>\n",
       "      <th>2</th>\n",
       "      <td>2</td>\n",
       "      <td>teal</td>\n",
       "      <td>76.3</td>\n",
       "      <td>5.1</td>\n",
       "      <td>7695.8</td>\n",
       "      <td>29</td>\n",
       "      <td>223177.5</td>\n",
       "      <td>223.2</td>\n",
       "    </tr>\n",
       "  </tbody>\n",
       "</table>\n",
       "</div>"
      ],
      "text/plain": [
       "   cluster cluster_color  Mean_Recency  Mean_Frequency  Mean_Monetary  \\\n",
       "0        0        purple          82.4             4.2         2698.8   \n",
       "1        1           red         132.4             2.8          658.6   \n",
       "2        2          teal          76.3             5.1         7695.8   \n",
       "\n",
       "   Customer_Count  Total_Sales  Total_Sales_K  \n",
       "0             189     510072.7          510.1  \n",
       "1             535     352368.5          352.4  \n",
       "2              29     223177.5          223.2  "
      ]
     },
     "execution_count": 174,
     "metadata": {},
     "output_type": "execute_result"
    }
   ],
   "source": [
    "customer_cluster_summary"
   ]
  },
  {
   "cell_type": "markdown",
   "metadata": {},
   "source": [
    "The above table shows that the largest cluster, in terms of customers count, is the red one, and the total sales generate from this cluster presents 32% of the total sales"
   ]
  }
 ],
 "metadata": {
  "kernelspec": {
   "display_name": "Python 3",
   "language": "python",
   "name": "python3"
  },
  "language_info": {
   "codemirror_mode": {
    "name": "ipython",
    "version": 3
   },
   "file_extension": ".py",
   "mimetype": "text/x-python",
   "name": "python",
   "nbconvert_exporter": "python",
   "pygments_lexer": "ipython3",
   "version": "3.12.6"
  }
 },
 "nbformat": 4,
 "nbformat_minor": 2
}
